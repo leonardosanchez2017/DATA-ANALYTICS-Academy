{
  "nbformat": 4,
  "nbformat_minor": 0,
  "metadata": {
    "colab": {
      "name": "Practica2",
      "provenance": [],
      "collapsed_sections": [],
      "authorship_tag": "ABX9TyPEoBntCuTGUwWd52wsHgN/",
      "include_colab_link": true
    },
    "kernelspec": {
      "name": "python3",
      "display_name": "Python 3"
    },
    "language_info": {
      "name": "python"
    }
  },
  "cells": [
    {
      "cell_type": "markdown",
      "metadata": {
        "id": "view-in-github",
        "colab_type": "text"
      },
      "source": [
        "<a href=\"https://colab.research.google.com/github/leonardosanchez2017/DATA-ANALYTICS-Academy/blob/main/Practica2.ipynb\" target=\"_parent\"><img src=\"https://colab.research.google.com/assets/colab-badge.svg\" alt=\"Open In Colab\"/></a>"
      ]
    },
    {
      "cell_type": "code",
      "execution_count": 1,
      "metadata": {
        "id": "0VIjExOdfQfM"
      },
      "outputs": [],
      "source": [
        "import math\n",
        "import pandas as pd\n",
        "import numpy as np\n",
        "import statistics\n",
        "import turtle as tt\n",
        "import matplotlib.pyplot as plt"
      ]
    },
    {
      "cell_type": "markdown",
      "source": [
        "Procedo a importar las librerias a utilizar para poder realizar dicha practica."
      ],
      "metadata": {
        "id": "Ixt1CQ0bfUh7"
      }
    },
    {
      "cell_type": "markdown",
      "source": [
        ""
      ],
      "metadata": {
        "id": "KHUVjQpXfRrH"
      }
    },
    {
      "cell_type": "code",
      "source": [
        "pd.set_option('display.max_columns', 1000)\n",
        "pd.set_option('display.width', 1000)\n",
        "pd.set_option('display.max_colwidth', 300)"
      ],
      "metadata": {
        "id": "eh3_Za1zfdm4"
      },
      "execution_count": 2,
      "outputs": []
    },
    {
      "cell_type": "markdown",
      "source": [
        "hago uso de los metodos para poder visializar todas las columnas y filas."
      ],
      "metadata": {
        "id": "tB5f-lRSf2hi"
      }
    },
    {
      "cell_type": "code",
      "source": [
        "df = pd.DataFrame()"
      ],
      "metadata": {
        "id": "DzhXSe3-gAFC"
      },
      "execution_count": 3,
      "outputs": []
    },
    {
      "cell_type": "markdown",
      "source": [
        "Declaro la variable df y le asigno el metodo pd.dataframe"
      ],
      "metadata": {
        "id": "FWvcIf7igYri"
      }
    },
    {
      "cell_type": "code",
      "source": [
        "url = ('/content/autos.csv')  \n",
        "df = pd.read_csv(url)"
      ],
      "metadata": {
        "id": "35AOCCqqgkTj"
      },
      "execution_count": 4,
      "outputs": []
    },
    {
      "cell_type": "markdown",
      "source": [
        "creo una variable de nombre url y le asigno la ruta del archivo autos.csv, despues hago uso del metodo pd.read_csv que me permitira importar el archivo con panda."
      ],
      "metadata": {
        "id": "h46TIhLbg9yH"
      }
    },
    {
      "cell_type": "markdown",
      "source": [
        "primero procedi a limpiar la data y crear las 6 variables dentro de las cuales la mayoria son numericas. las nuevas variables son (c_retro, c_gomas, cantidad puertas, tipo_transmision, tipo vehiculo y combustible)"
      ],
      "metadata": {
        "id": "lZF-77_FhhHQ"
      }
    },
    {
      "cell_type": "code",
      "source": [
        "df['calculos Log10'] = np.log10(df['c_gomas']/df['c_retro'])"
      ],
      "metadata": {
        "id": "R8vuYrFoiiMQ"
      },
      "execution_count": 5,
      "outputs": []
    },
    {
      "cell_type": "markdown",
      "source": [
        "procedo a crear una columna dentro del dataframe de nombre calculo log10 como lo solicita el mandato haciendo uso del metodo de la libreria numpy np.log10 hago el calculo solicitado."
      ],
      "metadata": {
        "id": "p_LKMY2NiqJG"
      }
    },
    {
      "cell_type": "code",
      "source": [
        "df['Calculo Sqrt(var1)exp(var2)/200'] = np.sqrt(df['c_gomas'])*math.exp(2)/200"
      ],
      "metadata": {
        "id": "x14x9fU5jCpy"
      },
      "execution_count": 6,
      "outputs": []
    },
    {
      "cell_type": "markdown",
      "source": [
        "El metodo sqrt calcula la raiz cuadrada de la\n",
        "variable que se le pasa, el metodo exp eleva a la potencia por le numero que se le asigna."
      ],
      "metadata": {
        "id": "tPA-wsvRjKfY"
      }
    },
    {
      "cell_type": "code",
      "source": [
        "df['calculos LogN'] = 1/np.log(df['c_gomas']/df['c_retro']*100)"
      ],
      "metadata": {
        "id": "VMwVpQZ2jN2Z"
      },
      "execution_count": 7,
      "outputs": []
    },
    {
      "cell_type": "markdown",
      "source": [
        "procedo hacer uso del metodo np.log para calcular el logaritmo natural con las variables establecidas"
      ],
      "metadata": {
        "id": "LQP9aOOAjRE6"
      }
    },
    {
      "cell_type": "code",
      "source": [
        "df['variable elevada'] = df['c_gomas']**2 / df['c_retro']"
      ],
      "metadata": {
        "id": "phg89QfJjlyA"
      },
      "execution_count": 8,
      "outputs": []
    },
    {
      "cell_type": "markdown",
      "source": [
        "procedo hacer lo emanado en el mandato elevando al cuadrado la variable senalada y despues dividiendo el resultado entre la otra variable."
      ],
      "metadata": {
        "id": "2GBZmDBwjySu"
      }
    },
    {
      "cell_type": "code",
      "source": [
        "print(df)"
      ],
      "metadata": {
        "id": "5BgfHdTRj_3b"
      },
      "execution_count": null,
      "outputs": []
    },
    {
      "cell_type": "code",
      "source": [
        "df = pd.DataFrame(data=np.random.randint(1, 20, (10,5)), \n",
        "    columns=[\"a\", \"b\", \"c\", \"d\", \"e\"])\n",
        "if df.loc[ 0, 'a'] > df.loc[1, 'b'] :\n",
        "  print(\"5\")\n",
        "else:\n",
        "    print(\"3\")"
      ],
      "metadata": {
        "colab": {
          "base_uri": "https://localhost:8080/"
        },
        "id": "IFuyeLjskI36",
        "outputId": "79794e29-8f33-45d0-f11d-0459f0292031"
      },
      "execution_count": 10,
      "outputs": [
        {
          "output_type": "stream",
          "name": "stdout",
          "text": [
            "3\n"
          ]
        }
      ]
    },
    {
      "cell_type": "markdown",
      "source": [
        " Este punto lo realice creando una matriz randon con los numeros del 1 al 20 en una matriz de 10 filas y 5 columnas, accediendo y comparando mediante el index (fila) y columna"
      ],
      "metadata": {
        "id": "xWp7JumSkNgD"
      }
    },
    {
      "cell_type": "code",
      "source": [
        "datos = pd.DataFrame ()\n",
        "datos = pd.read_csv('/content/VariablesOrdinales.csv')\n",
        "datos['DESVIACION ESTANDAR'] = statistics.pstdev(datos['NOTAS_EX'])\n",
        "datos['MEDIANA POSICION'] = datos['LUGAR_PRU'].mean() + 1 * datos['DESVIACION ESTANDAR']\n",
        "datos['MEDIANA NOTAS'] = datos['NOTAS_EX'].mean() - 1 * datos['DESVIACION ESTANDAR']\n",
        "print(datos)"
      ],
      "metadata": {
        "id": "l3fYuH3XKwEA"
      },
      "execution_count": null,
      "outputs": []
    },
    {
      "cell_type": "markdown",
      "source": [
        "para el calculo de la desviacion tipica o estandar proceso a utilizar la biblioteca statistics y el metodo pstdev.\n",
        "\n",
        "me gustaria confirmar si mi logica esta correcta ya que entiendo que debe haber otra forma, tambien pude calcular la media con np.mean y la desviacion estandar con np.std."
      ],
      "metadata": {
        "id": "h_VfTKE-G7k2"
      }
    },
    {
      "cell_type": "code",
      "source": [
        "from google.colab import files\n",
        "files.upload()"
      ],
      "metadata": {
        "id": "qyquPyT87cDz"
      },
      "execution_count": null,
      "outputs": []
    },
    {
      "cell_type": "markdown",
      "source": [
        "hago uso de la funcion de google colab para subir la data a utilizar."
      ],
      "metadata": {
        "id": "7hPHxGE9oueJ"
      }
    },
    {
      "cell_type": "code",
      "source": [
        "driesgos = pd.read_csv('Data - Riesgos (1).csv')\n",
        "print(driesgos)"
      ],
      "metadata": {
        "id": "GXPIWsqEagLU"
      },
      "execution_count": null,
      "outputs": []
    },
    {
      "cell_type": "markdown",
      "source": [
        "exporto la data para crear un Dataframe y poder visualizarla."
      ],
      "metadata": {
        "id": "2AbURVGto_jS"
      }
    },
    {
      "cell_type": "code",
      "source": [
        "driesgos.info()"
      ],
      "metadata": {
        "id": "olMDEZvvpYo8"
      },
      "execution_count": null,
      "outputs": []
    },
    {
      "cell_type": "markdown",
      "source": [
        "con el parametro parametro info podemos observar los tipos de datos y mediante la variable de referencia ID, ver cuantos datos faltantes o nulos tenemos."
      ],
      "metadata": {
        "id": "TAUAza9Vqctn"
      }
    },
    {
      "cell_type": "code",
      "source": [
        "columnas = driesgos.select_dtypes(include=['float64']).columns\n",
        "columnas"
      ],
      "metadata": {
        "colab": {
          "base_uri": "https://localhost:8080/"
        },
        "id": "gM_kh6fVw-8D",
        "outputId": "cceba91c-e096-487b-c310-a4d95874a3e3"
      },
      "execution_count": 17,
      "outputs": [
        {
          "output_type": "execute_result",
          "data": {
            "text/plain": [
              "Index(['edad', 'meses', 'max_ant', 'ingreso', 'score', 'zona'], dtype='object')"
            ]
          },
          "metadata": {},
          "execution_count": 17
        }
      ]
    },
    {
      "cell_type": "markdown",
      "source": [
        "En esta parate defino los parametro a obtener que sean de tipo float64,que estos seran 6."
      ],
      "metadata": {
        "id": "hyPAFGVYygEC"
      }
    },
    {
      "cell_type": "code",
      "source": [
        "import matplotlib.pyplot as plt\n",
        "from matplotlib import style\n",
        "import seaborn as sns"
      ],
      "metadata": {
        "id": "OgQUbLwRrrqO"
      },
      "execution_count": 18,
      "outputs": []
    },
    {
      "cell_type": "markdown",
      "source": [
        "importo las librerias a utilizar para hacer los graficos solicitados."
      ],
      "metadata": {
        "id": "qGmqZ12LslgB"
      }
    },
    {
      "cell_type": "code",
      "source": [
        "def graficos(columnas, data, x):\n",
        "  \n",
        "  for i, colum in enumerate(columnas): \n",
        "    fig, ax = plt.subplots(figsize=(6, 4))\n",
        "    sns.boxplot (   \n",
        "        x = x,\n",
        "        y = colum,\n",
        "        data  = data,\n",
        "        )\n",
        "\n",
        "\n"
      ],
      "metadata": {
        "id": "bD4neIFhsq4B"
      },
      "execution_count": 19,
      "outputs": []
    },
    {
      "cell_type": "markdown",
      "source": [
        "Creo una funcion de nombre graficos y defino los parametros a obtener.\n",
        "\n"
      ],
      "metadata": {
        "id": "T3D-rqQnx6-6"
      }
    },
    {
      "cell_type": "code",
      "source": [
        "x = driesgos.zona  # a x le asigno la variable a analizar \n",
        "\n",
        "graficos(columnas, driesgos, x) # aqui paso lo parametros"
      ],
      "metadata": {
        "colab": {
          "base_uri": "https://localhost:8080/",
          "height": 1000
        },
        "id": "XIZ0ziKbwQBu",
        "outputId": "362c7709-3ad1-47da-91a4-133bc393dff7"
      },
      "execution_count": 20,
      "outputs": [
        {
          "output_type": "display_data",
          "data": {
            "image/png": "[encoded data removed]",
            "text/plain": [
              "<Figure size 432x288 with 1 Axes>"
            ]
          },
          "metadata": {
            "needs_background": "light"
          }
        },
        {
          "output_type": "display_data",
          "data": {
            "image/png": "[encoded data removed]",
            "text/plain": [
              "<Figure size 432x288 with 1 Axes>"
            ]
          },
          "metadata": {
            "needs_background": "light"
          }
        },
        {
          "output_type": "display_data",
          "data": {
            "image/png": "[encoded data removed]",
            "text/plain": [
              "<Figure size 432x288 with 1 Axes>"
            ]
          },
          "metadata": {
            "needs_background": "light"
          }
        },
        {
          "output_type": "display_data",
          "data": {
            "image/png": "[encoded data removed]",
            "text/plain": [
              "<Figure size 432x288 with 1 Axes>"
            ]
          },
          "metadata": {
            "needs_background": "light"
          }
        },
        {
          "output_type": "display_data",
          "data": {
            "image/png": "[encoded data removed]",
            "text/plain": [
              "<Figure size 432x288 with 1 Axes>"
            ]
          },
          "metadata": {
            "needs_background": "light"
          }
        },
        {
          "output_type": "display_data",
          "data": {
            "image/png": "[encoded data removed]",
            "text/plain": [
              "<Figure size 432x288 with 1 Axes>"
            ]
          },
          "metadata": {
            "needs_background": "light"
          }
        }
      ]
    },
    {
      "cell_type": "code",
      "source": [
        "fig, ax = plt.subplots(figsize=(6, 4)) #histograma\n",
        "ax.bar([1, 2, 3], [3, 2, 1])\n",
        "plt.show()"
      ],
      "metadata": {
        "colab": {
          "base_uri": "https://localhost:8080/",
          "height": 265
        },
        "id": "CJRAxGkt2Q9g",
        "outputId": "2d898e63-29ed-4501-d44e-59745b880b4a"
      },
      "execution_count": 24,
      "outputs": [
        {
          "output_type": "display_data",
          "data": {
            "image/png": "[encoded data removed]",
            "text/plain": [
              "<Figure size 432x288 with 1 Axes>"
            ]
          },
          "metadata": {
            "needs_background": "light"
          }
        }
      ]
    },
    {
      "cell_type": "code",
      "source": [
        "fig, ax = plt.subplots(figsize=(6, 4))  #histograma\n",
        "x = np.random.normal(5, 10, size=1000)\n",
        "ax.hist(x, np.arange(0, 11))\n",
        "plt.show()"
      ],
      "metadata": {
        "colab": {
          "base_uri": "https://localhost:8080/",
          "height": 265
        },
        "id": "9YOCB_Rq2pL5",
        "outputId": "9d6574fb-49c3-4fef-ad8e-2ac5e08a356f"
      },
      "execution_count": 29,
      "outputs": [
        {
          "output_type": "display_data",
          "data": {
            "image/png": "[encoded data removed]",
            "text/plain": [
              "<Figure size 432x288 with 1 Axes>"
            ]
          },
          "metadata": {
            "needs_background": "light"
          }
        }
      ]
    },
    {
      "cell_type": "code",
      "source": [
        "\n",
        "fig, ax = plt.subplots(figsize=(8, 9)) \n",
        "x = np.random.random((16, 16))\n",
        "ax.imshow(x)\n",
        "plt.show()\n"
      ],
      "metadata": {
        "colab": {
          "base_uri": "https://localhost:8080/",
          "height": 494
        },
        "id": "kbiSQcbw3JpI",
        "outputId": "36d4e78f-e7f9-43ae-f271-dadd1b7fb3df"
      },
      "execution_count": 42,
      "outputs": [
        {
          "output_type": "display_data",
          "data": {
            "image/png": "[encoded data removed]",
            "text/plain": [
              "<Figure size 576x648 with 1 Axes>"
            ]
          },
          "metadata": {
            "needs_background": "light"
          }
        }
      ]
    }
  ]
}