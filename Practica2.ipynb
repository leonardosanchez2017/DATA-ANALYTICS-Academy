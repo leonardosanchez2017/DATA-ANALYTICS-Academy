{
  "nbformat": 4,
  "nbformat_minor": 0,
  "metadata": {
    "colab": {
      "name": "Practica2",
      "provenance": [],
      "authorship_tag": "ABX9TyOxS7HYD+jVIltRchxL7KtK",
      "include_colab_link": true
    },
    "kernelspec": {
      "name": "python3",
      "display_name": "Python 3"
    },
    "language_info": {
      "name": "python"
    }
  },
  "cells": [
    {
      "cell_type": "markdown",
      "metadata": {
        "id": "view-in-github",
        "colab_type": "text"
      },
      "source": [
        "<a href=\"https://colab.research.google.com/github/leonardosanchez2017/DATA-ANALYTICS-Academy/blob/main/Practica2.ipynb\" target=\"_parent\"><img src=\"https://colab.research.google.com/assets/colab-badge.svg\" alt=\"Open In Colab\"/></a>"
      ]
    },
    {
      "cell_type": "code",
      "execution_count": 1,
      "metadata": {
        "id": "0VIjExOdfQfM"
      },
      "outputs": [],
      "source": [
        "import math\n",
        "import pandas as pd\n",
        "import numpy as np"
      ]
    },
    {
      "cell_type": "markdown",
      "source": [
        "Procedo a importar las librerias a utilizar para poder realizar dicha practica."
      ],
      "metadata": {
        "id": "Ixt1CQ0bfUh7"
      }
    },
    {
      "cell_type": "markdown",
      "source": [
        ""
      ],
      "metadata": {
        "id": "KHUVjQpXfRrH"
      }
    },
    {
      "cell_type": "code",
      "source": [
        "pd.set_option('display.max_columns', 1000)\n",
        "pd.set_option('display.width', 1000)\n",
        "pd.set_option('display.max_colwidth', 300)"
      ],
      "metadata": {
        "id": "eh3_Za1zfdm4"
      },
      "execution_count": 2,
      "outputs": []
    },
    {
      "cell_type": "markdown",
      "source": [
        "hago uso de los metodos para poder visializar todas las columnas y filas."
      ],
      "metadata": {
        "id": "tB5f-lRSf2hi"
      }
    },
    {
      "cell_type": "code",
      "source": [
        "df = pd.DataFrame()"
      ],
      "metadata": {
        "id": "DzhXSe3-gAFC"
      },
      "execution_count": 3,
      "outputs": []
    },
    {
      "cell_type": "markdown",
      "source": [
        "Declaro la variable df y le asigno el metodo pd.dataframe"
      ],
      "metadata": {
        "id": "FWvcIf7igYri"
      }
    },
    {
      "cell_type": "code",
      "source": [
        "url = ('/content/autos.csv')  \n",
        "df = pd.read_csv(url)"
      ],
      "metadata": {
        "id": "35AOCCqqgkTj"
      },
      "execution_count": 5,
      "outputs": []
    },
    {
      "cell_type": "markdown",
      "source": [
        "creo una variable de nombre url y le asigno la ruta del archivo autos.csv, despues hago uso del metodo pd.read_csv que me permitira importar el archivo con panda."
      ],
      "metadata": {
        "id": "h46TIhLbg9yH"
      }
    },
    {
      "cell_type": "markdown",
      "source": [
        "primero procedi a limpiar la data y crear las 6 variables dentro de las cuales la mayoria son numericas. las nuevas variables son (c_retro, c_gomas, cantidad puertas, tipo_transmision, tipo vehiculo y combustible)"
      ],
      "metadata": {
        "id": "lZF-77_FhhHQ"
      }
    },
    {
      "cell_type": "code",
      "source": [
        "df['calculos Log10'] = np.log10(df['c_gomas']/df['c_retro'])"
      ],
      "metadata": {
        "id": "R8vuYrFoiiMQ"
      },
      "execution_count": 6,
      "outputs": []
    },
    {
      "cell_type": "markdown",
      "source": [
        "procedo a crear una columna dentro del dataframe de nombre calculo log10 como lo solicita el mandato haciendo uso del metodo de la libreria numpy np.log10 hago el calculo solicitado."
      ],
      "metadata": {
        "id": "p_LKMY2NiqJG"
      }
    },
    {
      "cell_type": "code",
      "source": [
        "df['Calculo Sqrt(var1)exp(var2)/200'] = np.sqrt(df['c_gomas'])*math.exp(2)/200"
      ],
      "metadata": {
        "id": "x14x9fU5jCpy"
      },
      "execution_count": 7,
      "outputs": []
    },
    {
      "cell_type": "markdown",
      "source": [
        "El metodo sqrt calcula la raiz cuadrada de la\n",
        "variable que se le pasa, el metodo exp eleva a la potencia por le numero que se le asigna."
      ],
      "metadata": {
        "id": "tPA-wsvRjKfY"
      }
    },
    {
      "cell_type": "code",
      "source": [
        "df['calculos LogN'] = 1/np.log(df['c_gomas']/df['c_retro']*100)"
      ],
      "metadata": {
        "id": "VMwVpQZ2jN2Z"
      },
      "execution_count": 8,
      "outputs": []
    },
    {
      "cell_type": "markdown",
      "source": [
        "procedo hacer uso del metodo np.log para calcular el logaritmo natural con las variables establecidas"
      ],
      "metadata": {
        "id": "LQP9aOOAjRE6"
      }
    },
    {
      "cell_type": "code",
      "source": [
        "df['variable elevada'] = df['c_gomas']**2 / df['c_retro']"
      ],
      "metadata": {
        "id": "phg89QfJjlyA"
      },
      "execution_count": 9,
      "outputs": []
    },
    {
      "cell_type": "markdown",
      "source": [
        "procedo hacer lo emanado en el mandato elevando al cuadrado la variable senalada y despues dividiendo el resultado entre la otra variable."
      ],
      "metadata": {
        "id": "2GBZmDBwjySu"
      }
    },
    {
      "cell_type": "code",
      "source": [
        "print(df)"
      ],
      "metadata": {
        "colab": {
          "base_uri": "https://localhost:8080/"
        },
        "id": "5BgfHdTRj_3b",
        "outputId": "2dd8759c-7af5-4e98-ceb5-a410681b89bc"
      },
      "execution_count": 10,
      "outputs": [
        {
          "output_type": "stream",
          "name": "stdout",
          "text": [
            "      Id  Millas_Por_Galon  Cilindros Pais_Origen  Peso_En_Libras  Desplazamiento  Aceleracion      marca    modelo combustibe tipo de vehiculo Ano_fabricacion  Caballo_De_Fuerza Transmision  cantida de puertas  c_gomas  c_retro  calculos Log10  Calculo Sqrt(var1)exp(var2)/200  calculos LogN  variable elevada\n",
            "0    168              29.0          4      Europe            1867            68.0         19.5       fiat       128   gasolina            sedan          1/1/73               49.0  automatica                   2        4        2         0.30103                         0.073891       0.188739               8.0\n",
            "1    169              24.0          4      Europe            2108            90.0         15.5       fiat       128   gasolina            sedan          1/1/74               75.0  automatica                   2        4        2         0.30103                         0.073891       0.188739               8.0\n",
            "2    170              28.0          4      Europe            2464           107.0         15.5       fiat       131   gasolina            sedan          1/1/76               86.0  automatica                   2        4        2         0.30103                         0.073891       0.188739               8.0\n",
            "3    117              31.8          4       Japan            2020            85.0         19.2     datsun       210   gasolina            sedan          1/1/79               65.0    mecanica                   2        4        2         0.30103                         0.073891       0.188739               8.0\n",
            "4    118              40.8          4       Japan            2110            85.0         19.2     datsun       210   gasolina            sedan          1/1/80               65.0    mecanica                   2        4        2         0.30103                         0.073891       0.188739               8.0\n",
            "..   ...               ...        ...         ...             ...             ...          ...        ...       ...        ...              ...             ...                ...         ...                 ...      ...      ...             ...                              ...            ...               ...\n",
            "378  103              24.5          4         USA            2164            98.0         22.1  chevrolet     woody   gasolina            sedan          1/1/76               60.0  automatica                   4        4        2         0.30103                         0.073891       0.188739               8.0\n",
            "379  172              31.0          4      Europe            2000            79.0         16.0       fiat      x1.9   gasolina            sedan          1/1/74               67.0  automatica                   4        4        2         0.30103                         0.073891       0.188739               8.0\n",
            "380  264              20.8          6         USA            3070           200.0         16.7    mercury    zephyr   gasolina            sedan          1/1/78               85.0  automatica                   4        4        2         0.30103                         0.073891       0.188739               8.0\n",
            "381  265              19.8          6         USA            2990           200.0         18.2    mercury  zephyr 6   gasolina            sedan          1/1/79               85.0  automatica                   4        4        2         0.30103                         0.073891       0.188739               8.0\n",
            "382  400              30.7          6      Europe            3160           145.0         19.6      volvo       NaN   gasolina            sedan          1/1/82               76.0  automatica                   4        4        2         0.30103                         0.073891       0.188739               8.0\n",
            "\n",
            "[383 rows x 21 columns]\n"
          ]
        }
      ]
    },
    {
      "cell_type": "code",
      "source": [
        "Var1 = 1\n",
        "Var2 = 2\n",
        "if Var1 > Var2:\n",
        " print(' 5')\n",
        "else:\n",
        " print('3')"
      ],
      "metadata": {
        "colab": {
          "base_uri": "https://localhost:8080/"
        },
        "id": "IFuyeLjskI36",
        "outputId": "14729003-6103-41b3-86e8-6fde7652f5f6"
      },
      "execution_count": 11,
      "outputs": [
        {
          "output_type": "stream",
          "name": "stdout",
          "text": [
            "3\n"
          ]
        }
      ]
    },
    {
      "cell_type": "markdown",
      "source": [
        "Este punto lo realice de forma directa, trate de hacerlo relacionando dos campos numerico y se presentaron varios inconvenientes, me gustaria que se explicara esta parte a ver si se puede."
      ],
      "metadata": {
        "id": "xWp7JumSkNgD"
      }
    }
  ]
}